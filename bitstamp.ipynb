{
 "cells": [
  {
   "cell_type": "code",
   "execution_count": 1,
   "id": "2625a95b-daff-41d0-a94a-f72d91a25ba3",
   "metadata": {},
   "outputs": [
    {
     "name": "stdout",
     "output_type": "stream",
     "text": [
      "Looking in indexes: https://pypi.org/simple, https://pypi.ngc.nvidia.com\n",
      "Requirement already satisfied: websockets in /home/kyamkovyi/anaconda3/lib/python3.9/site-packages (11.0.3)\n"
     ]
    }
   ],
   "source": [
    "!pip install websockets"
   ]
  },
  {
   "cell_type": "code",
   "execution_count": 1,
   "id": "ee3eddc6-d7de-4203-b31d-7a1246940840",
   "metadata": {},
   "outputs": [
    {
     "ename": "ModuleNotFoundError",
     "evalue": "No module named 'websockets.sync'",
     "output_type": "error",
     "traceback": [
      "\u001b[1;31m---------------------------------------------------------------------------\u001b[0m",
      "\u001b[1;31mModuleNotFoundError\u001b[0m                       Traceback (most recent call last)",
      "Input \u001b[1;32mIn [1]\u001b[0m, in \u001b[0;36m<cell line: 1>\u001b[1;34m()\u001b[0m\n\u001b[1;32m----> 1\u001b[0m \u001b[38;5;28;01mfrom\u001b[39;00m \u001b[38;5;21;01mwebsockets\u001b[39;00m\u001b[38;5;21;01m.\u001b[39;00m\u001b[38;5;21;01msync\u001b[39;00m\u001b[38;5;21;01m.\u001b[39;00m\u001b[38;5;21;01mclient\u001b[39;00m \u001b[38;5;28;01mimport\u001b[39;00m connect\n\u001b[0;32m      2\u001b[0m \u001b[38;5;28;01mimport\u001b[39;00m \u001b[38;5;21;01mjson\u001b[39;00m\n\u001b[0;32m      3\u001b[0m \u001b[38;5;28;01mimport\u001b[39;00m \u001b[38;5;21;01mtime\u001b[39;00m\n",
      "\u001b[1;31mModuleNotFoundError\u001b[0m: No module named 'websockets.sync'"
     ]
    }
   ],
   "source": [
    "from websockets.sync.client import connect\n",
    "import json\n",
    "import time"
   ]
  },
  {
   "cell_type": "code",
   "execution_count": 3,
   "id": "513a9bc2-6f89-4a11-b427-650f84ab5873",
   "metadata": {},
   "outputs": [],
   "source": [
    "server_ip = \"wss://ws.bitstamp.net\""
   ]
  },
  {
   "cell_type": "code",
   "execution_count": 4,
   "id": "cfe48499-4a0e-4e82-915a-86b5011cee50",
   "metadata": {},
   "outputs": [],
   "source": [
    "channgel_name = \"live_orders_btcusd\"\n",
    "\n",
    "subscription_msg = {\n",
    "    \"event\": \"bts:subscribe\",\n",
    "    \"data\": {\n",
    "        \"channel\": channgel_name\n",
    "    }\n",
    "}\n",
    "\n",
    "unsubscription_msg = {\n",
    "    \"event\": \"bts:unsubscribe\",\n",
    "    \"data\": {\n",
    "        \"channel\": channgel_name\n",
    "    }\n",
    "}"
   ]
  },
  {
   "cell_type": "code",
   "execution_count": 7,
   "id": "3853820e-7176-46c4-ac6e-ed19866c7d07",
   "metadata": {},
   "outputs": [
    {
     "name": "stdout",
     "output_type": "stream",
     "text": [
      "Received: {\"event\":\"bts:subscription_succeeded\",\"channel\":\"live_orders_btcusd\",\"data\":{}}\n",
      "--------------------\n",
      "Received: {\"data\":{\"id\":1675071460294656,\"id_str\":\"1675071460294656\",\"order_type\":1,\"datetime\":\"1697787970\",\"microtimestamp\":\"1697787970137000\",\"amount\":0.01704519,\"amount_str\":\"0.01704519\",\"amount_traded\":\"0\",\"amount_at_create\":\"0.01704519\",\"price\":29363,\"price_str\":\"29363\"},\"channel\":\"live_orders_btcusd\",\"event\":\"order_deleted\"}\n",
      "Received: {\"data\":{\"id\":1675071394205701,\"id_str\":\"1675071394205701\",\"order_type\":1,\"datetime\":\"1697787970\",\"microtimestamp\":\"1697787970139000\",\"amount\":0.2,\"amount_str\":\"0.20000000\",\"amount_traded\":\"0\",\"amount_at_create\":\"0.20000000\",\"price\":29400,\"price_str\":\"29400\"},\"channel\":\"live_orders_btcusd\",\"event\":\"order_deleted\"}\n",
      "Received: {\"data\":{\"id\":1675071251628032,\"id_str\":\"1675071251628032\",\"order_type\":1,\"datetime\":\"1697787970\",\"microtimestamp\":\"1697787970139000\",\"amount\":0.05,\"amount_str\":\"0.05000000\",\"amount_traded\":\"0\",\"amount_at_create\":\"0.05000000\",\"price\":29385,\"price_str\":\"29385\"},\"channel\":\"live_orders_btcusd\",\"event\":\"order_deleted\"}\n",
      "--------------------\n"
     ]
    }
   ],
   "source": [
    "with connect(server_ip) as websocket:\n",
    "    websocket.send(json.dumps(subscription_msg))\n",
    "    message = websocket.recv()\n",
    "    print(f\"Received: {message}\")\n",
    "\n",
    "    print(\"-\" * 20)\n",
    "    for _ in range(3):\n",
    "        time.sleep(1)\n",
    "        message = websocket.recv()\n",
    "        print(f\"Received: {message}\")\n",
    "    print(\"-\" * 20)\n",
    "\n",
    "    websocket.send(json.dumps(unsubscription_msg))"
   ]
  },
  {
   "cell_type": "code",
   "execution_count": null,
   "id": "801125fb-34e3-4287-8eff-5beac46d64c1",
   "metadata": {},
   "outputs": [],
   "source": []
  }
 ],
 "metadata": {
  "kernelspec": {
   "display_name": "Python 3 (ipykernel)",
   "language": "python",
   "name": "python3"
  },
  "language_info": {
   "codemirror_mode": {
    "name": "ipython",
    "version": 3
   },
   "file_extension": ".py",
   "mimetype": "text/x-python",
   "name": "python",
   "nbconvert_exporter": "python",
   "pygments_lexer": "ipython3",
   "version": "3.10.5"
  }
 },
 "nbformat": 4,
 "nbformat_minor": 5
}
